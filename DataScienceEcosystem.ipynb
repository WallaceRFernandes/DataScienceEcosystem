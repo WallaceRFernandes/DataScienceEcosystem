{
  "cells": [
    {
      "cell_type": "markdown",
      "metadata": {
        "id": "view-in-github",
        "colab_type": "text"
      },
      "source": [
        "<a href=\"https://colab.research.google.com/github/WallaceRFernandes/DataScienceEcosystem/blob/main/DataScienceEcosystem.ipynb\" target=\"_parent\"><img src=\"https://colab.research.google.com/assets/colab-badge.svg\" alt=\"Open In Colab\"/></a>"
      ]
    },
    {
      "cell_type": "markdown",
      "metadata": {
        "id": "_4WyLENFUbfz"
      },
      "source": [
        "# Data Science Tools and Ecosystem"
      ]
    },
    {
      "cell_type": "markdown",
      "metadata": {
        "id": "4HWrXesFUbf0"
      },
      "source": [
        "In this notebook, Data Science Tools and Ecosystem are summarized."
      ]
    },
    {
      "cell_type": "markdown",
      "metadata": {
        "id": "9umvzkp9Ubf1"
      },
      "source": [
        "**Objectives:**"
      ]
    },
    {
      "cell_type": "markdown",
      "metadata": {
        "id": "nkDtXJhHUbf1"
      },
      "source": [
        "* List popular languages for Data Science\n",
        "* List commonly used libraries in Data Science\n",
        "* Create tables in Jupyter Notebooks\n",
        "* Perform arithmetic operations in Python\n",
        "* Convert units (e.g., minutes to hours)\n",
        "                       "
      ]
    },
    {
      "cell_type": "markdown",
      "metadata": {
        "id": "04hCTdstUbf1"
      },
      "source": [
        "Some of the popular languages that Data Scientists use are:"
      ]
    },
    {
      "cell_type": "markdown",
      "metadata": {
        "id": "kfom-AzkUbf1"
      },
      "source": [
        "1. Python\n",
        "2. R\n",
        "3. SQL\n",
        "4. Julia\n",
        "5. Scala"
      ]
    },
    {
      "cell_type": "markdown",
      "metadata": {
        "id": "DpJZxJPBUbf1"
      },
      "source": [
        "Some of the commonly used libraries used by Data Scientists include:"
      ]
    },
    {
      "cell_type": "markdown",
      "metadata": {
        "id": "iA-0o4rBUbf2"
      },
      "source": [
        "1. Pandas\n",
        "2. NumPy\n",
        "3. Scikit-learn\n",
        "4. TensorFlow\n",
        "5. Matplotlib"
      ]
    },
    {
      "cell_type": "markdown",
      "metadata": {
        "id": "6IzAUVKUUbf2"
      },
      "source": [
        "|Data Science Tools|\n",
        "|:----------------:|\n",
        "|Jupyter Notebooks|\n",
        "|RStudio|\n",
        "|VS Code|"
      ]
    },
    {
      "cell_type": "markdown",
      "metadata": {
        "id": "vc-dlQVLUbf2"
      },
      "source": [
        "### Below are a few examples of evaluating arithmetic expressions in Python"
      ]
    },
    {
      "cell_type": "code",
      "execution_count": 1,
      "metadata": {
        "id": "BdUm6c6IUbf2",
        "outputId": "2904453f-7c21-4471-86a5-3056571d584c",
        "colab": {
          "base_uri": "https://localhost:8080/"
        }
      },
      "outputs": [
        {
          "output_type": "execute_result",
          "data": {
            "text/plain": [
              "29"
            ]
          },
          "metadata": {},
          "execution_count": 1
        }
      ],
      "source": [
        "# This a simple arithmetic expression to mutiply then add integers.\n",
        "(4*4)+13"
      ]
    },
    {
      "cell_type": "code",
      "execution_count": 2,
      "metadata": {
        "id": "dE8Qd6TIUbf3",
        "outputId": "cbbbfe9b-1512-4d26-c56c-a430f146df14",
        "colab": {
          "base_uri": "https://localhost:8080/"
        }
      },
      "outputs": [
        {
          "output_type": "stream",
          "name": "stdout",
          "text": [
            "630 minutes is equal to 10.50 hours.\n"
          ]
        }
      ],
      "source": [
        "#  This will convert 200 minutes to hours by diving by 60.\n",
        "minutes = 630\n",
        "hours = minutes / 60\n",
        "print(f\"{minutes} minutes is equal to {hours:.2f} hours.\")"
      ]
    },
    {
      "cell_type": "markdown",
      "metadata": {
        "id": "nIdIbFbHUbf3"
      },
      "source": [
        "## Author"
      ]
    },
    {
      "cell_type": "markdown",
      "metadata": {
        "id": "Yiaym1pmUbf3"
      },
      "source": [
        "Wallace R. Fernandes"
      ]
    }
  ],
  "metadata": {
    "kernelspec": {
      "display_name": "Python 3 (ipykernel)",
      "language": "python",
      "name": "python3"
    },
    "language_info": {
      "codemirror_mode": {
        "name": "ipython",
        "version": 3
      },
      "file_extension": ".py",
      "mimetype": "text/x-python",
      "name": "python",
      "nbconvert_exporter": "python",
      "pygments_lexer": "ipython3",
      "version": "3.12.7"
    },
    "panel-cell-order": [
      "fc4f5c87",
      "0b0831d4",
      "498958d1",
      "f9f70525",
      "04d56bd4",
      "a350af31",
      "bcba1cff",
      "fb4515ab",
      "db9eece7",
      "18e0e834",
      "b524dbf4",
      "3443f550",
      "219b8a82",
      "b64b4ba8",
      "f1b38f06",
      "045e67ef"
    ],
    "prev_pub_hash": "9e1985db9844176462bd1d5863048c9f3d17404bbc6a648be9084b0c42b29347",
    "colab": {
      "provenance": [],
      "include_colab_link": true
    }
  },
  "nbformat": 4,
  "nbformat_minor": 0
}